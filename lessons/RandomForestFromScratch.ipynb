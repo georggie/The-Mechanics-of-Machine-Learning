{
 "metadata": {
  "language_info": {
   "codemirror_mode": {
    "name": "ipython",
    "version": 3
   },
   "file_extension": ".py",
   "mimetype": "text/x-python",
   "name": "python",
   "nbconvert_exporter": "python",
   "pygments_lexer": "ipython3",
   "version": 3
  },
  "orig_nbformat": 2,
  "kernelspec": {
   "name": "python_defaultSpec_1596709727058",
   "display_name": "Python 3.8.2 64-bit ('venv': venv)"
  }
 },
 "nbformat": 4,
 "nbformat_minor": 2,
 "cells": [
  {
   "cell_type": "markdown",
   "metadata": {},
   "source": [
    "## Random Forest from scratch\n",
    "\n",
    "The idea of this notebook in combination with the module `RandomForest.py` is to show how one should go about creating and using random forest from scratch. It is not the fully-fledged example of random forest implementation but it gives intuition of how could someone develop and use it. "
   ]
  },
  {
   "cell_type": "code",
   "execution_count": 1,
   "metadata": {},
   "outputs": [],
   "source": [
    "from RandomForest import *\n",
    "from sklearn import metrics\n",
    "\n",
    "PATH = '../resources'"
   ]
  },
  {
   "cell_type": "code",
   "execution_count": 2,
   "metadata": {},
   "outputs": [],
   "source": [
    "# import data from CSV file\n",
    "data_set = pd.read_csv(f'{PATH}/rent-ideal.csv')\n",
    "\n",
    "# validation set size\n",
    "permutations = np.random.permutation(data_set.shape[0])\n",
    "training_indexes = permutations[:data_set.shape[0] - 2000]\n",
    "validation_indexes = permutations[data_set.shape[0] - 2000:]\n",
    "\n",
    "# split validation and training set\n",
    "training_set, training_target = data_set.iloc[training_indexes, [0,1,2,3]], data_set.iloc[training_indexes,4]\n",
    "validation_set, validation_target = data_set.iloc[validation_indexes, [0,1,2,3]], data_set.iloc[validation_indexes,4]"
   ]
  },
  {
   "cell_type": "code",
   "execution_count": 3,
   "metadata": {},
   "outputs": [
    {
     "output_type": "execute_result",
     "data": {
      "text/plain": "0.7731584291636365"
     },
     "metadata": {},
     "execution_count": 3
    }
   ],
   "source": [
    "# one decision tree model\n",
    "model = DecisionRegressionTree(training_set, training_target, sample_size=20000)\n",
    "metrics.r2_score(validation_target, model.predict(validation_set))"
   ]
  },
  {
   "cell_type": "code",
   "execution_count": 5,
   "metadata": {},
   "outputs": [
    {
     "output_type": "execute_result",
     "data": {
      "text/plain": "0.8310898253385754"
     },
     "metadata": {},
     "execution_count": 5
    }
   ],
   "source": [
    "# tree ensemble model\n",
    "model = TreeEnsemble(number_of_trees=10, sample_size=20000, leaf_min_samples=5)\n",
    "model.learn(training_set, training_target)\n",
    "metrics.r2_score(validation_target, model.predict(validation_set))"
   ]
  }
 ]
}