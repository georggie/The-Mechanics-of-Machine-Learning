{
 "cells": [
  {
   "cell_type": "markdown",
   "metadata": {},
   "source": [
    "### Introduction\n",
    "\n",
    "This notebook contains my notes from the first lecture of the `fastai` course held by `Jeremy Howard`. "
   ]
  },
  {
   "cell_type": "markdown",
   "metadata": {},
   "source": [
    "#### Initial set up"
   ]
  },
  {
   "cell_type": "code",
   "execution_count": 1,
   "metadata": {
    "tags": []
   },
   "outputs": [
    {
     "output_type": "stream",
     "name": "stdout",
     "text": "The history saving thread hit an unexpected error (DatabaseError('database disk image is malformed')).History will not be written to the database.\n/home/georggie/DataAnalysis/The-Mechanics-Of-Machine-Learning/lessons\n"
    }
   ],
   "source": [
    "# to my understanding, this is used for auto-reloading of modules. E.g. you change something in the module then you don't have to restart the notebook's kernel again in order for changes to take effect.\n",
    "%load_ext autoreload\n",
    "%autoreload 2\n",
    "\n",
    "# this part is necessary in order to load georggie module.\n",
    "import sys\n",
    "sys.path.append('../')\n",
    "\n",
    "!pwd"
   ]
  },
  {
   "cell_type": "code",
   "execution_count": 7,
   "metadata": {
    "tags": []
   },
   "outputs": [],
   "source": [
    "# georggie module import (import everything (*) from the module).\n",
    "from ai import *\n",
    "from sklearn.ensemble import RandomForestRegressor\n",
    "\n",
    "# path to the dataset\n",
    "PATH = \"../resources\""
   ]
  },
  {
   "cell_type": "code",
   "execution_count": 8,
   "metadata": {},
   "outputs": [
    {
     "output_type": "display_data",
     "data": {
      "text/plain": "                                                                 0  \\\nSalesID                                                    1139246   \nSalePrice                                                    66000   \nMachineID                                                   999089   \nModelID                                                       3157   \ndatasource                                                     121   \nauctioneerID                                                     3   \nYearMade                                                      2004   \nMachineHoursCurrentMeter                                        68   \nUsageBand                                                      Low   \nsaledate                                       2006-11-16 00:00:00   \nfiModelDesc                                                   521D   \nfiBaseModel                                                    521   \nfiSecondaryDesc                                                  D   \nfiModelSeries                                                  NaN   \nfiModelDescriptor                                              NaN   \nProductSize                                                    NaN   \nfiProductClassDesc        Wheel Loader - 110.0 to 120.0 Horsepower   \nstate                                                      Alabama   \nProductGroup                                                    WL   \nProductGroupDesc                                      Wheel Loader   \nDrive_System                                                   NaN   \nEnclosure                                               EROPS w AC   \nForks                                          None or Unspecified   \nPad_Type                                                       NaN   \nRide_Control                                   None or Unspecified   \nStick                                                          NaN   \nTransmission                                                   NaN   \nTurbocharged                                                   NaN   \nBlade_Extension                                                NaN   \nBlade_Width                                                    NaN   \nEnclosure_Type                                                 NaN   \nEngine_Horsepower                                              NaN   \nHydraulics                                                 2 Valve   \nPushblock                                                      NaN   \nRipper                                                         NaN   \nScarifier                                                      NaN   \nTip_Control                                                    NaN   \nTire_Size                                      None or Unspecified   \nCoupler                                        None or Unspecified   \nCoupler_System                                                 NaN   \nGrouser_Tracks                                                 NaN   \nHydraulics_Flow                                                NaN   \nTrack_Type                                                     NaN   \nUndercarriage_Pad_Width                                        NaN   \nStick_Length                                                   NaN   \nThumb                                                          NaN   \nPattern_Changer                                                NaN   \nGrouser_Type                                                   NaN   \nBackhoe_Mounting                                               NaN   \nBlade_Type                                                     NaN   \nTravel_Controls                                                NaN   \nDifferential_Type                                         Standard   \nSteering_Controls                                     Conventional   \n\n                                                                 1  \\\nSalesID                                                    1139248   \nSalePrice                                                    57000   \nMachineID                                                   117657   \nModelID                                                         77   \ndatasource                                                     121   \nauctioneerID                                                     3   \nYearMade                                                      1996   \nMachineHoursCurrentMeter                                      4640   \nUsageBand                                                      Low   \nsaledate                                       2004-03-26 00:00:00   \nfiModelDesc                                                 950FII   \nfiBaseModel                                                    950   \nfiSecondaryDesc                                                  F   \nfiModelSeries                                                   II   \nfiModelDescriptor                                              NaN   \nProductSize                                                 Medium   \nfiProductClassDesc        Wheel Loader - 150.0 to 175.0 Horsepower   \nstate                                               North Carolina   \nProductGroup                                                    WL   \nProductGroupDesc                                      Wheel Loader   \nDrive_System                                                   NaN   \nEnclosure                                               EROPS w AC   \nForks                                          None or Unspecified   \nPad_Type                                                       NaN   \nRide_Control                                   None or Unspecified   \nStick                                                          NaN   \nTransmission                                                   NaN   \nTurbocharged                                                   NaN   \nBlade_Extension                                                NaN   \nBlade_Width                                                    NaN   \nEnclosure_Type                                                 NaN   \nEngine_Horsepower                                              NaN   \nHydraulics                                                 2 Valve   \nPushblock                                                      NaN   \nRipper                                                         NaN   \nScarifier                                                      NaN   \nTip_Control                                                    NaN   \nTire_Size                                                     23.5   \nCoupler                                        None or Unspecified   \nCoupler_System                                                 NaN   \nGrouser_Tracks                                                 NaN   \nHydraulics_Flow                                                NaN   \nTrack_Type                                                     NaN   \nUndercarriage_Pad_Width                                        NaN   \nStick_Length                                                   NaN   \nThumb                                                          NaN   \nPattern_Changer                                                NaN   \nGrouser_Type                                                   NaN   \nBackhoe_Mounting                                               NaN   \nBlade_Type                                                     NaN   \nTravel_Controls                                                NaN   \nDifferential_Type                                         Standard   \nSteering_Controls                                     Conventional   \n\n                                                                          2  \\\nSalesID                                                             1139249   \nSalePrice                                                             10000   \nMachineID                                                            434808   \nModelID                                                                7009   \ndatasource                                                              121   \nauctioneerID                                                              3   \nYearMade                                                               2001   \nMachineHoursCurrentMeter                                               2838   \nUsageBand                                                              High   \nsaledate                                                2004-02-26 00:00:00   \nfiModelDesc                                                             226   \nfiBaseModel                                                             226   \nfiSecondaryDesc                                                         NaN   \nfiModelSeries                                                           NaN   \nfiModelDescriptor                                                       NaN   \nProductSize                                                             NaN   \nfiProductClassDesc        Skid Steer Loader - 1351.0 to 1601.0 Lb Operat...   \nstate                                                              New York   \nProductGroup                                                            SSL   \nProductGroupDesc                                         Skid Steer Loaders   \nDrive_System                                                            NaN   \nEnclosure                                                             OROPS   \nForks                                                   None or Unspecified   \nPad_Type                                                                NaN   \nRide_Control                                                            NaN   \nStick                                                                   NaN   \nTransmission                                                            NaN   \nTurbocharged                                                            NaN   \nBlade_Extension                                                         NaN   \nBlade_Width                                                             NaN   \nEnclosure_Type                                                          NaN   \nEngine_Horsepower                                                       NaN   \nHydraulics                                                        Auxiliary   \nPushblock                                                               NaN   \nRipper                                                                  NaN   \nScarifier                                                               NaN   \nTip_Control                                                             NaN   \nTire_Size                                                               NaN   \nCoupler                                                 None or Unspecified   \nCoupler_System                                          None or Unspecified   \nGrouser_Tracks                                          None or Unspecified   \nHydraulics_Flow                                                    Standard   \nTrack_Type                                                              NaN   \nUndercarriage_Pad_Width                                                 NaN   \nStick_Length                                                            NaN   \nThumb                                                                   NaN   \nPattern_Changer                                                         NaN   \nGrouser_Type                                                            NaN   \nBackhoe_Mounting                                                        NaN   \nBlade_Type                                                              NaN   \nTravel_Controls                                                         NaN   \nDifferential_Type                                                       NaN   \nSteering_Controls                                                       NaN   \n\n                                                                          3  \\\nSalesID                                                             1139251   \nSalePrice                                                             38500   \nMachineID                                                           1026470   \nModelID                                                                 332   \ndatasource                                                              121   \nauctioneerID                                                              3   \nYearMade                                                               2001   \nMachineHoursCurrentMeter                                               3486   \nUsageBand                                                              High   \nsaledate                                                2011-05-19 00:00:00   \nfiModelDesc                                                        PC120-6E   \nfiBaseModel                                                           PC120   \nfiSecondaryDesc                                                         NaN   \nfiModelSeries                                                           -6E   \nfiModelDescriptor                                                       NaN   \nProductSize                                                           Small   \nfiProductClassDesc        Hydraulic Excavator, Track - 12.0 to 14.0 Metr...   \nstate                                                                 Texas   \nProductGroup                                                            TEX   \nProductGroupDesc                                           Track Excavators   \nDrive_System                                                            NaN   \nEnclosure                                                        EROPS w AC   \nForks                                                                   NaN   \nPad_Type                                                                NaN   \nRide_Control                                                            NaN   \nStick                                                                   NaN   \nTransmission                                                            NaN   \nTurbocharged                                                            NaN   \nBlade_Extension                                                         NaN   \nBlade_Width                                                             NaN   \nEnclosure_Type                                                          NaN   \nEngine_Horsepower                                                       NaN   \nHydraulics                                                          2 Valve   \nPushblock                                                               NaN   \nRipper                                                                  NaN   \nScarifier                                                               NaN   \nTip_Control                                                             NaN   \nTire_Size                                                               NaN   \nCoupler                                                 None or Unspecified   \nCoupler_System                                                          NaN   \nGrouser_Tracks                                                          NaN   \nHydraulics_Flow                                                         NaN   \nTrack_Type                                                              NaN   \nUndercarriage_Pad_Width                                                 NaN   \nStick_Length                                                            NaN   \nThumb                                                                   NaN   \nPattern_Changer                                                         NaN   \nGrouser_Type                                                            NaN   \nBackhoe_Mounting                                                        NaN   \nBlade_Type                                                              NaN   \nTravel_Controls                                                         NaN   \nDifferential_Type                                                       NaN   \nSteering_Controls                                                       NaN   \n\n                                                                          4  \nSalesID                                                             1139253  \nSalePrice                                                             11000  \nMachineID                                                           1057373  \nModelID                                                               17311  \ndatasource                                                              121  \nauctioneerID                                                              3  \nYearMade                                                               2007  \nMachineHoursCurrentMeter                                                722  \nUsageBand                                                            Medium  \nsaledate                                                2009-07-23 00:00:00  \nfiModelDesc                                                            S175  \nfiBaseModel                                                            S175  \nfiSecondaryDesc                                                         NaN  \nfiModelSeries                                                           NaN  \nfiModelDescriptor                                                       NaN  \nProductSize                                                             NaN  \nfiProductClassDesc        Skid Steer Loader - 1601.0 to 1751.0 Lb Operat...  \nstate                                                              New York  \nProductGroup                                                            SSL  \nProductGroupDesc                                         Skid Steer Loaders  \nDrive_System                                                            NaN  \nEnclosure                                                             EROPS  \nForks                                                   None or Unspecified  \nPad_Type                                                                NaN  \nRide_Control                                                            NaN  \nStick                                                                   NaN  \nTransmission                                                            NaN  \nTurbocharged                                                            NaN  \nBlade_Extension                                                         NaN  \nBlade_Width                                                             NaN  \nEnclosure_Type                                                          NaN  \nEngine_Horsepower                                                       NaN  \nHydraulics                                                        Auxiliary  \nPushblock                                                               NaN  \nRipper                                                                  NaN  \nScarifier                                                               NaN  \nTip_Control                                                             NaN  \nTire_Size                                                               NaN  \nCoupler                                                 None or Unspecified  \nCoupler_System                                          None or Unspecified  \nGrouser_Tracks                                          None or Unspecified  \nHydraulics_Flow                                                    Standard  \nTrack_Type                                                              NaN  \nUndercarriage_Pad_Width                                                 NaN  \nStick_Length                                                            NaN  \nThumb                                                                   NaN  \nPattern_Changer                                                         NaN  \nGrouser_Type                                                            NaN  \nBackhoe_Mounting                                                        NaN  \nBlade_Type                                                              NaN  \nTravel_Controls                                                         NaN  \nDifferential_Type                                                       NaN  \nSteering_Controls                                                       NaN  ",
      "text/html": "<div>\n<style scoped>\n    .dataframe tbody tr th:only-of-type {\n        vertical-align: middle;\n    }\n\n    .dataframe tbody tr th {\n        vertical-align: top;\n    }\n\n    .dataframe thead th {\n        text-align: right;\n    }\n</style>\n<table border=\"1\" class=\"dataframe\">\n  <thead>\n    <tr style=\"text-align: right;\">\n      <th></th>\n      <th>0</th>\n      <th>1</th>\n      <th>2</th>\n      <th>3</th>\n      <th>4</th>\n    </tr>\n  </thead>\n  <tbody>\n    <tr>\n      <th>SalesID</th>\n      <td>1139246</td>\n      <td>1139248</td>\n      <td>1139249</td>\n      <td>1139251</td>\n      <td>1139253</td>\n    </tr>\n    <tr>\n      <th>SalePrice</th>\n      <td>66000</td>\n      <td>57000</td>\n      <td>10000</td>\n      <td>38500</td>\n      <td>11000</td>\n    </tr>\n    <tr>\n      <th>MachineID</th>\n      <td>999089</td>\n      <td>117657</td>\n      <td>434808</td>\n      <td>1026470</td>\n      <td>1057373</td>\n    </tr>\n    <tr>\n      <th>ModelID</th>\n      <td>3157</td>\n      <td>77</td>\n      <td>7009</td>\n      <td>332</td>\n      <td>17311</td>\n    </tr>\n    <tr>\n      <th>datasource</th>\n      <td>121</td>\n      <td>121</td>\n      <td>121</td>\n      <td>121</td>\n      <td>121</td>\n    </tr>\n    <tr>\n      <th>auctioneerID</th>\n      <td>3</td>\n      <td>3</td>\n      <td>3</td>\n      <td>3</td>\n      <td>3</td>\n    </tr>\n    <tr>\n      <th>YearMade</th>\n      <td>2004</td>\n      <td>1996</td>\n      <td>2001</td>\n      <td>2001</td>\n      <td>2007</td>\n    </tr>\n    <tr>\n      <th>MachineHoursCurrentMeter</th>\n      <td>68</td>\n      <td>4640</td>\n      <td>2838</td>\n      <td>3486</td>\n      <td>722</td>\n    </tr>\n    <tr>\n      <th>UsageBand</th>\n      <td>Low</td>\n      <td>Low</td>\n      <td>High</td>\n      <td>High</td>\n      <td>Medium</td>\n    </tr>\n    <tr>\n      <th>saledate</th>\n      <td>2006-11-16 00:00:00</td>\n      <td>2004-03-26 00:00:00</td>\n      <td>2004-02-26 00:00:00</td>\n      <td>2011-05-19 00:00:00</td>\n      <td>2009-07-23 00:00:00</td>\n    </tr>\n    <tr>\n      <th>fiModelDesc</th>\n      <td>521D</td>\n      <td>950FII</td>\n      <td>226</td>\n      <td>PC120-6E</td>\n      <td>S175</td>\n    </tr>\n    <tr>\n      <th>fiBaseModel</th>\n      <td>521</td>\n      <td>950</td>\n      <td>226</td>\n      <td>PC120</td>\n      <td>S175</td>\n    </tr>\n    <tr>\n      <th>fiSecondaryDesc</th>\n      <td>D</td>\n      <td>F</td>\n      <td>NaN</td>\n      <td>NaN</td>\n      <td>NaN</td>\n    </tr>\n    <tr>\n      <th>fiModelSeries</th>\n      <td>NaN</td>\n      <td>II</td>\n      <td>NaN</td>\n      <td>-6E</td>\n      <td>NaN</td>\n    </tr>\n    <tr>\n      <th>fiModelDescriptor</th>\n      <td>NaN</td>\n      <td>NaN</td>\n      <td>NaN</td>\n      <td>NaN</td>\n      <td>NaN</td>\n    </tr>\n    <tr>\n      <th>ProductSize</th>\n      <td>NaN</td>\n      <td>Medium</td>\n      <td>NaN</td>\n      <td>Small</td>\n      <td>NaN</td>\n    </tr>\n    <tr>\n      <th>fiProductClassDesc</th>\n      <td>Wheel Loader - 110.0 to 120.0 Horsepower</td>\n      <td>Wheel Loader - 150.0 to 175.0 Horsepower</td>\n      <td>Skid Steer Loader - 1351.0 to 1601.0 Lb Operat...</td>\n      <td>Hydraulic Excavator, Track - 12.0 to 14.0 Metr...</td>\n      <td>Skid Steer Loader - 1601.0 to 1751.0 Lb Operat...</td>\n    </tr>\n    <tr>\n      <th>state</th>\n      <td>Alabama</td>\n      <td>North Carolina</td>\n      <td>New York</td>\n      <td>Texas</td>\n      <td>New York</td>\n    </tr>\n    <tr>\n      <th>ProductGroup</th>\n      <td>WL</td>\n      <td>WL</td>\n      <td>SSL</td>\n      <td>TEX</td>\n      <td>SSL</td>\n    </tr>\n    <tr>\n      <th>ProductGroupDesc</th>\n      <td>Wheel Loader</td>\n      <td>Wheel Loader</td>\n      <td>Skid Steer Loaders</td>\n      <td>Track Excavators</td>\n      <td>Skid Steer Loaders</td>\n    </tr>\n    <tr>\n      <th>Drive_System</th>\n      <td>NaN</td>\n      <td>NaN</td>\n      <td>NaN</td>\n      <td>NaN</td>\n      <td>NaN</td>\n    </tr>\n    <tr>\n      <th>Enclosure</th>\n      <td>EROPS w AC</td>\n      <td>EROPS w AC</td>\n      <td>OROPS</td>\n      <td>EROPS w AC</td>\n      <td>EROPS</td>\n    </tr>\n    <tr>\n      <th>Forks</th>\n      <td>None or Unspecified</td>\n      <td>None or Unspecified</td>\n      <td>None or Unspecified</td>\n      <td>NaN</td>\n      <td>None or Unspecified</td>\n    </tr>\n    <tr>\n      <th>Pad_Type</th>\n      <td>NaN</td>\n      <td>NaN</td>\n      <td>NaN</td>\n      <td>NaN</td>\n      <td>NaN</td>\n    </tr>\n    <tr>\n      <th>Ride_Control</th>\n      <td>None or Unspecified</td>\n      <td>None or Unspecified</td>\n      <td>NaN</td>\n      <td>NaN</td>\n      <td>NaN</td>\n    </tr>\n    <tr>\n      <th>Stick</th>\n      <td>NaN</td>\n      <td>NaN</td>\n      <td>NaN</td>\n      <td>NaN</td>\n      <td>NaN</td>\n    </tr>\n    <tr>\n      <th>Transmission</th>\n      <td>NaN</td>\n      <td>NaN</td>\n      <td>NaN</td>\n      <td>NaN</td>\n      <td>NaN</td>\n    </tr>\n    <tr>\n      <th>Turbocharged</th>\n      <td>NaN</td>\n      <td>NaN</td>\n      <td>NaN</td>\n      <td>NaN</td>\n      <td>NaN</td>\n    </tr>\n    <tr>\n      <th>Blade_Extension</th>\n      <td>NaN</td>\n      <td>NaN</td>\n      <td>NaN</td>\n      <td>NaN</td>\n      <td>NaN</td>\n    </tr>\n    <tr>\n      <th>Blade_Width</th>\n      <td>NaN</td>\n      <td>NaN</td>\n      <td>NaN</td>\n      <td>NaN</td>\n      <td>NaN</td>\n    </tr>\n    <tr>\n      <th>Enclosure_Type</th>\n      <td>NaN</td>\n      <td>NaN</td>\n      <td>NaN</td>\n      <td>NaN</td>\n      <td>NaN</td>\n    </tr>\n    <tr>\n      <th>Engine_Horsepower</th>\n      <td>NaN</td>\n      <td>NaN</td>\n      <td>NaN</td>\n      <td>NaN</td>\n      <td>NaN</td>\n    </tr>\n    <tr>\n      <th>Hydraulics</th>\n      <td>2 Valve</td>\n      <td>2 Valve</td>\n      <td>Auxiliary</td>\n      <td>2 Valve</td>\n      <td>Auxiliary</td>\n    </tr>\n    <tr>\n      <th>Pushblock</th>\n      <td>NaN</td>\n      <td>NaN</td>\n      <td>NaN</td>\n      <td>NaN</td>\n      <td>NaN</td>\n    </tr>\n    <tr>\n      <th>Ripper</th>\n      <td>NaN</td>\n      <td>NaN</td>\n      <td>NaN</td>\n      <td>NaN</td>\n      <td>NaN</td>\n    </tr>\n    <tr>\n      <th>Scarifier</th>\n      <td>NaN</td>\n      <td>NaN</td>\n      <td>NaN</td>\n      <td>NaN</td>\n      <td>NaN</td>\n    </tr>\n    <tr>\n      <th>Tip_Control</th>\n      <td>NaN</td>\n      <td>NaN</td>\n      <td>NaN</td>\n      <td>NaN</td>\n      <td>NaN</td>\n    </tr>\n    <tr>\n      <th>Tire_Size</th>\n      <td>None or Unspecified</td>\n      <td>23.5</td>\n      <td>NaN</td>\n      <td>NaN</td>\n      <td>NaN</td>\n    </tr>\n    <tr>\n      <th>Coupler</th>\n      <td>None or Unspecified</td>\n      <td>None or Unspecified</td>\n      <td>None or Unspecified</td>\n      <td>None or Unspecified</td>\n      <td>None or Unspecified</td>\n    </tr>\n    <tr>\n      <th>Coupler_System</th>\n      <td>NaN</td>\n      <td>NaN</td>\n      <td>None or Unspecified</td>\n      <td>NaN</td>\n      <td>None or Unspecified</td>\n    </tr>\n    <tr>\n      <th>Grouser_Tracks</th>\n      <td>NaN</td>\n      <td>NaN</td>\n      <td>None or Unspecified</td>\n      <td>NaN</td>\n      <td>None or Unspecified</td>\n    </tr>\n    <tr>\n      <th>Hydraulics_Flow</th>\n      <td>NaN</td>\n      <td>NaN</td>\n      <td>Standard</td>\n      <td>NaN</td>\n      <td>Standard</td>\n    </tr>\n    <tr>\n      <th>Track_Type</th>\n      <td>NaN</td>\n      <td>NaN</td>\n      <td>NaN</td>\n      <td>NaN</td>\n      <td>NaN</td>\n    </tr>\n    <tr>\n      <th>Undercarriage_Pad_Width</th>\n      <td>NaN</td>\n      <td>NaN</td>\n      <td>NaN</td>\n      <td>NaN</td>\n      <td>NaN</td>\n    </tr>\n    <tr>\n      <th>Stick_Length</th>\n      <td>NaN</td>\n      <td>NaN</td>\n      <td>NaN</td>\n      <td>NaN</td>\n      <td>NaN</td>\n    </tr>\n    <tr>\n      <th>Thumb</th>\n      <td>NaN</td>\n      <td>NaN</td>\n      <td>NaN</td>\n      <td>NaN</td>\n      <td>NaN</td>\n    </tr>\n    <tr>\n      <th>Pattern_Changer</th>\n      <td>NaN</td>\n      <td>NaN</td>\n      <td>NaN</td>\n      <td>NaN</td>\n      <td>NaN</td>\n    </tr>\n    <tr>\n      <th>Grouser_Type</th>\n      <td>NaN</td>\n      <td>NaN</td>\n      <td>NaN</td>\n      <td>NaN</td>\n      <td>NaN</td>\n    </tr>\n    <tr>\n      <th>Backhoe_Mounting</th>\n      <td>NaN</td>\n      <td>NaN</td>\n      <td>NaN</td>\n      <td>NaN</td>\n      <td>NaN</td>\n    </tr>\n    <tr>\n      <th>Blade_Type</th>\n      <td>NaN</td>\n      <td>NaN</td>\n      <td>NaN</td>\n      <td>NaN</td>\n      <td>NaN</td>\n    </tr>\n    <tr>\n      <th>Travel_Controls</th>\n      <td>NaN</td>\n      <td>NaN</td>\n      <td>NaN</td>\n      <td>NaN</td>\n      <td>NaN</td>\n    </tr>\n    <tr>\n      <th>Differential_Type</th>\n      <td>Standard</td>\n      <td>Standard</td>\n      <td>NaN</td>\n      <td>NaN</td>\n      <td>NaN</td>\n    </tr>\n    <tr>\n      <th>Steering_Controls</th>\n      <td>Conventional</td>\n      <td>Conventional</td>\n      <td>NaN</td>\n      <td>NaN</td>\n      <td>NaN</td>\n    </tr>\n  </tbody>\n</table>\n</div>"
     },
     "metadata": {}
    }
   ],
   "source": [
    "# load data from CSV to pandas data frame.\n",
    "data = pd.read_csv(f'{PATH}/bulldozers.csv', low_memory=False, parse_dates=['saledate'])\n",
    "\n",
    "# display as much as it can be displayed and transpose rows and columns.\n",
    "display_all(data.head().transpose())"
   ]
  },
  {
   "cell_type": "markdown",
   "metadata": {},
   "source": [
    "Project is evaluated on `RMSLE (Root Mean Square Log Error)`. In other words, we are going to look at the difference between the log of our prediction of price and the log of the actual price and we will square them (differences) and add them up."
   ]
  },
  {
   "cell_type": "code",
   "execution_count": 9,
   "metadata": {},
   "outputs": [],
   "source": [
    "# take log of prices since we are working with RMSLE.\n",
    "data.SalePrice = np.log(data.SalePrice)"
   ]
  },
  {
   "cell_type": "markdown",
   "metadata": {},
   "source": [
    "#### Preprocessing\n",
    "\n",
    "* We should always try to extract new features from a complete datetime field. Without expanding datatime into these additional features, you can't capture any trend/cyclical behavior as a function of time at any of these granularities.\n",
    "\n",
    "* Some features in our data set contain string variables which most of the ML algorithms will not accept (do not understand them). We need to convert them to categorical variables."
   ]
  },
  {
   "cell_type": "code",
   "execution_count": 10,
   "metadata": {
    "tags": []
   },
   "outputs": [],
   "source": [
    "extract_date_features(data, 'saledate')\n",
    "convert_to_categorical(data)"
   ]
  },
  {
   "cell_type": "code",
   "execution_count": 11,
   "metadata": {},
   "outputs": [],
   "source": [
    "# when converting `UsageBand` feature to categorical variable we received an order of High < Low < Medium which is not natural (may also cause some inefficiencies).So we decided to put them in natural order. \n",
    "data.UsageBand.cat.set_categories(['High', 'Medium', 'Low'], ordered=True, inplace=True)\n",
    "\n",
    "# Normally, pandas will continue displaying the text categories, while treating them as numerical data internally. Optionally, we can replace the text categories with numbers, which will make this variable non-categorical.\n",
    "data.UsageBand = data.UsageBand.cat.codes"
   ]
  },
  {
   "cell_type": "code",
   "execution_count": 7,
   "metadata": {},
   "outputs": [
    {
     "output_type": "display_data",
     "data": {
      "text/plain": "Backhoe_Mounting            80.387161\nBlade_Extension             93.712932\nBlade_Type                  80.097725\nBlade_Width                 93.712932\nCoupler                     46.662013\nCoupler_System              89.165971\nDifferential_Type           82.695918\nDrive_System                73.982923\nEnclosure                    0.081022\nEnclosure_Type              93.712932\nEngine_Horsepower           93.712932\nForks                       52.115425\nGrouser_Tracks              89.189903\nGrouser_Type                75.281271\nHydraulics                  20.082269\nHydraulics_Flow             89.189903\nMachineHoursCurrentMeter    64.408850\nMachineID                    0.000000\nModelID                      0.000000\nPad_Type                    80.271985\nPattern_Changer             75.265067\nProductGroup                 0.000000\nProductGroupDesc             0.000000\nProductSize                 52.545964\nPushblock                   93.712932\nRide_Control                62.952696\nRipper                      74.038766\nSalePrice                    0.000000\nSalesID                      0.000000\nScarifier                   93.710190\nSteering_Controls           82.706388\nStick                       80.271985\nStick_Length                75.265067\nThumb                       75.247616\nTip_Control                 93.712932\nTire_Size                   76.386912\nTrack_Type                  75.281271\nTransmission                54.320972\nTravel_Controls             80.097476\nTurbocharged                80.271985\nUndercarriage_Pad_Width     75.102026\nUsageBand                    0.000000\nYearMade                     0.000000\nauctioneerID                 5.019882\ndatasource                   0.000000\nfiBaseModel                  0.000000\nfiModelDesc                  0.000000\nfiModelDescriptor           82.070676\nfiModelSeries               85.812901\nfiProductClassDesc           0.000000\nfiSecondaryDesc             34.201558\nsale_day                     0.000000\nsale_dayofweek               0.000000\nsale_dayofyear               0.000000\nsale_is_month_end            0.000000\nsale_is_month_start          0.000000\nsale_is_quarter_end          0.000000\nsale_is_quarter_start        0.000000\nsale_is_year_end             0.000000\nsale_is_year_start           0.000000\nsale_month                   0.000000\nsale_week                    0.000000\nsale_year                    0.000000\nstate                        0.000000\ndtype: float64"
     },
     "metadata": {}
    }
   ],
   "source": [
    "# we also need to be careful about missing values because they can cause problems in the model training process. Command shows the percentage of missing values in our data set (per feature).\n",
    "display_all(data.isnull().sum().sort_index()/len(data) * 100)"
   ]
  },
  {
   "cell_type": "markdown",
   "metadata": {},
   "source": [
    "We'll replace categories (categorical variables) with their numeric codes, handle missing continuous values (replacing them with median), and split the dependent variable into a separate variable."
   ]
  },
  {
   "cell_type": "code",
   "execution_count": 12,
   "metadata": {
    "tags": []
   },
   "outputs": [],
   "source": [
    "data, target, changes = preprocess_dataframe(data, 'SalePrice')"
   ]
  },
  {
   "cell_type": "markdown",
   "metadata": {},
   "source": [
    "At this point we have something we can pass to the RandomForest(RF). Let's see what we got"
   ]
  },
  {
   "cell_type": "code",
   "execution_count": 13,
   "metadata": {},
   "outputs": [
    {
     "output_type": "execute_result",
     "data": {
      "text/plain": "0.9879554790323682"
     },
     "metadata": {},
     "execution_count": 13
    }
   ],
   "source": [
    "model = RandomForestRegressor(n_jobs=-1)\n",
    "model.fit(data, target)\n",
    "model.score(data, target)"
   ]
  }
 ],
 "metadata": {
  "kernelspec": {
   "display_name": "Python 3.8.2 64-bit ('venv': venv)",
   "language": "python",
   "name": "python_defaultSpec_1596010459962"
  },
  "language_info": {
   "codemirror_mode": {
    "name": "ipython",
    "version": 3
   },
   "file_extension": ".py",
   "mimetype": "text/x-python",
   "name": "python",
   "nbconvert_exporter": "python",
   "pygments_lexer": "ipython3",
   "version": "3.8.2-final"
  }
 },
 "nbformat": 4,
 "nbformat_minor": 4
}