{
 "metadata": {
  "language_info": {
   "codemirror_mode": {
    "name": "ipython",
    "version": 3
   },
   "file_extension": ".py",
   "mimetype": "text/x-python",
   "name": "python",
   "nbconvert_exporter": "python",
   "pygments_lexer": "ipython3",
   "version": "3.8.2-final"
  },
  "orig_nbformat": 2,
  "kernelspec": {
   "name": "python_defaultSpec_1597590225404",
   "display_name": "Python 3.8.2 64-bit ('venv': venv)"
  }
 },
 "nbformat": 4,
 "nbformat_minor": 2,
 "cells": [
  {
   "cell_type": "markdown",
   "metadata": {},
   "source": [
    "## Development Tools"
   ]
  },
  {
   "cell_type": "markdown",
   "metadata": {},
   "source": [
    "#### Loading and Examining the Data"
   ]
  },
  {
   "cell_type": "code",
   "execution_count": 1,
   "metadata": {
    "tags": []
   },
   "outputs": [
    {
     "output_type": "stream",
     "name": "stdout",
     "text": "The history saving thread hit an unexpected error (DatabaseError('database disk image is malformed')).History will not be written to the database.\n"
    },
    {
     "output_type": "execute_result",
     "data": {
      "text/plain": "   bedrooms  bathrooms  latitude  longitude  price\n0         1        1.0   40.7108   -73.9539   2400\n1         2        1.0   40.7513   -73.9722   3800\n2         2        1.0   40.7575   -73.9625   3495\n3         3        1.5   40.7145   -73.9425   3000\n4         0        1.0   40.7439   -73.9743   2795",
      "text/html": "<div>\n<style scoped>\n    .dataframe tbody tr th:only-of-type {\n        vertical-align: middle;\n    }\n\n    .dataframe tbody tr th {\n        vertical-align: top;\n    }\n\n    .dataframe thead th {\n        text-align: right;\n    }\n</style>\n<table border=\"1\" class=\"dataframe\">\n  <thead>\n    <tr style=\"text-align: right;\">\n      <th></th>\n      <th>bedrooms</th>\n      <th>bathrooms</th>\n      <th>latitude</th>\n      <th>longitude</th>\n      <th>price</th>\n    </tr>\n  </thead>\n  <tbody>\n    <tr>\n      <th>0</th>\n      <td>1</td>\n      <td>1.0</td>\n      <td>40.7108</td>\n      <td>-73.9539</td>\n      <td>2400</td>\n    </tr>\n    <tr>\n      <th>1</th>\n      <td>2</td>\n      <td>1.0</td>\n      <td>40.7513</td>\n      <td>-73.9722</td>\n      <td>3800</td>\n    </tr>\n    <tr>\n      <th>2</th>\n      <td>2</td>\n      <td>1.0</td>\n      <td>40.7575</td>\n      <td>-73.9625</td>\n      <td>3495</td>\n    </tr>\n    <tr>\n      <th>3</th>\n      <td>3</td>\n      <td>1.5</td>\n      <td>40.7145</td>\n      <td>-73.9425</td>\n      <td>3000</td>\n    </tr>\n    <tr>\n      <th>4</th>\n      <td>0</td>\n      <td>1.0</td>\n      <td>40.7439</td>\n      <td>-73.9743</td>\n      <td>2795</td>\n    </tr>\n  </tbody>\n</table>\n</div>"
     },
     "metadata": {},
     "execution_count": 1
    }
   ],
   "source": [
    "# import the library and give a short alias: pd\n",
    "import pandas as pd\n",
    "\n",
    "# head() method shows first 5 records, but we can change that with parameter \n",
    "df = pd.read_csv(\"../data/rent-ideal.csv\")\n",
    "df.head()"
   ]
  },
  {
   "cell_type": "code",
   "execution_count": 2,
   "metadata": {},
   "outputs": [
    {
     "output_type": "execute_result",
     "data": {
      "text/plain": "                   0          1          2          3          4          5  \\\nbedrooms      1.0000     2.0000     2.0000     3.0000     0.0000     3.0000   \nbathrooms     1.0000     1.0000     1.0000     1.5000     1.0000     1.0000   \nlatitude     40.7108    40.7513    40.7575    40.7145    40.7439    40.7348   \nlongitude   -73.9539   -73.9722   -73.9625   -73.9425   -73.9743   -73.9865   \nprice      2400.0000  3800.0000  3495.0000  3000.0000  2795.0000  7200.0000   \n\n                   6          7          8          9  \nbedrooms      3.0000     0.0000     1.0000     3.0000  \nbathrooms     2.0000     1.0000     0.0000     3.0000  \nlatitude     40.7302    40.7769    40.7346    40.6990  \nlongitude   -73.9826   -73.9467   -73.9811   -73.9943  \nprice      6000.0000  1945.0000  2435.0000  6850.0000  ",
      "text/html": "<div>\n<style scoped>\n    .dataframe tbody tr th:only-of-type {\n        vertical-align: middle;\n    }\n\n    .dataframe tbody tr th {\n        vertical-align: top;\n    }\n\n    .dataframe thead th {\n        text-align: right;\n    }\n</style>\n<table border=\"1\" class=\"dataframe\">\n  <thead>\n    <tr style=\"text-align: right;\">\n      <th></th>\n      <th>0</th>\n      <th>1</th>\n      <th>2</th>\n      <th>3</th>\n      <th>4</th>\n      <th>5</th>\n      <th>6</th>\n      <th>7</th>\n      <th>8</th>\n      <th>9</th>\n    </tr>\n  </thead>\n  <tbody>\n    <tr>\n      <th>bedrooms</th>\n      <td>1.0000</td>\n      <td>2.0000</td>\n      <td>2.0000</td>\n      <td>3.0000</td>\n      <td>0.0000</td>\n      <td>3.0000</td>\n      <td>3.0000</td>\n      <td>0.0000</td>\n      <td>1.0000</td>\n      <td>3.0000</td>\n    </tr>\n    <tr>\n      <th>bathrooms</th>\n      <td>1.0000</td>\n      <td>1.0000</td>\n      <td>1.0000</td>\n      <td>1.5000</td>\n      <td>1.0000</td>\n      <td>1.0000</td>\n      <td>2.0000</td>\n      <td>1.0000</td>\n      <td>0.0000</td>\n      <td>3.0000</td>\n    </tr>\n    <tr>\n      <th>latitude</th>\n      <td>40.7108</td>\n      <td>40.7513</td>\n      <td>40.7575</td>\n      <td>40.7145</td>\n      <td>40.7439</td>\n      <td>40.7348</td>\n      <td>40.7302</td>\n      <td>40.7769</td>\n      <td>40.7346</td>\n      <td>40.6990</td>\n    </tr>\n    <tr>\n      <th>longitude</th>\n      <td>-73.9539</td>\n      <td>-73.9722</td>\n      <td>-73.9625</td>\n      <td>-73.9425</td>\n      <td>-73.9743</td>\n      <td>-73.9865</td>\n      <td>-73.9826</td>\n      <td>-73.9467</td>\n      <td>-73.9811</td>\n      <td>-73.9943</td>\n    </tr>\n    <tr>\n      <th>price</th>\n      <td>2400.0000</td>\n      <td>3800.0000</td>\n      <td>3495.0000</td>\n      <td>3000.0000</td>\n      <td>2795.0000</td>\n      <td>7200.0000</td>\n      <td>6000.0000</td>\n      <td>1945.0000</td>\n      <td>2435.0000</td>\n      <td>6850.0000</td>\n    </tr>\n  </tbody>\n</table>\n</div>"
     },
     "metadata": {},
     "execution_count": 2
    }
   ],
   "source": [
    "# data sets with many columns are usually too wide to view on screen without scrolling, which we can overcome by transposing (flipping) the data frame using the T property:\n",
    "df.head(10).T"
   ]
  },
  {
   "cell_type": "code",
   "execution_count": 3,
   "metadata": {
    "tags": []
   },
   "outputs": [
    {
     "output_type": "stream",
     "name": "stdout",
     "text": "<class 'pandas.core.frame.DataFrame'>\nRangeIndex: 48300 entries, 0 to 48299\nData columns (total 5 columns):\n #   Column     Non-Null Count  Dtype  \n---  ------     --------------  -----  \n 0   bedrooms   48300 non-null  int64  \n 1   bathrooms  48300 non-null  float64\n 2   latitude   48300 non-null  float64\n 3   longitude  48300 non-null  float64\n 4   price      48300 non-null  int64  \ndtypes: float64(3), int64(2)\nmemory usage: 1.8 MB\n"
    }
   ],
   "source": [
    "# to get meta-information about the data frame, use method info():\n",
    "df.info()"
   ]
  },
  {
   "cell_type": "code",
   "execution_count": 4,
   "metadata": {},
   "outputs": [
    {
     "output_type": "execute_result",
     "data": {
      "text/plain": "           bedrooms     bathrooms      latitude     longitude         price\ncount  48300.000000  48300.000000  48300.000000  48300.000000  48300.000000\nmean       1.508799      1.178313     40.750782    -73.972365   3438.297950\nstd        1.092232      0.426120      0.039560      0.029563   1401.422247\nmin        0.000000      0.000000     40.571200    -74.094000   1025.000000\n25%        1.000000      1.000000     40.728100    -73.991700   2495.000000\n50%        1.000000      1.000000     40.751600    -73.977900   3100.000000\n75%        2.000000      1.000000     40.774000    -73.954700   4000.000000\nmax        8.000000     10.000000     40.915400    -73.700100   9999.000000",
      "text/html": "<div>\n<style scoped>\n    .dataframe tbody tr th:only-of-type {\n        vertical-align: middle;\n    }\n\n    .dataframe tbody tr th {\n        vertical-align: top;\n    }\n\n    .dataframe thead th {\n        text-align: right;\n    }\n</style>\n<table border=\"1\" class=\"dataframe\">\n  <thead>\n    <tr style=\"text-align: right;\">\n      <th></th>\n      <th>bedrooms</th>\n      <th>bathrooms</th>\n      <th>latitude</th>\n      <th>longitude</th>\n      <th>price</th>\n    </tr>\n  </thead>\n  <tbody>\n    <tr>\n      <th>count</th>\n      <td>48300.000000</td>\n      <td>48300.000000</td>\n      <td>48300.000000</td>\n      <td>48300.000000</td>\n      <td>48300.000000</td>\n    </tr>\n    <tr>\n      <th>mean</th>\n      <td>1.508799</td>\n      <td>1.178313</td>\n      <td>40.750782</td>\n      <td>-73.972365</td>\n      <td>3438.297950</td>\n    </tr>\n    <tr>\n      <th>std</th>\n      <td>1.092232</td>\n      <td>0.426120</td>\n      <td>0.039560</td>\n      <td>0.029563</td>\n      <td>1401.422247</td>\n    </tr>\n    <tr>\n      <th>min</th>\n      <td>0.000000</td>\n      <td>0.000000</td>\n      <td>40.571200</td>\n      <td>-74.094000</td>\n      <td>1025.000000</td>\n    </tr>\n    <tr>\n      <th>25%</th>\n      <td>1.000000</td>\n      <td>1.000000</td>\n      <td>40.728100</td>\n      <td>-73.991700</td>\n      <td>2495.000000</td>\n    </tr>\n    <tr>\n      <th>50%</th>\n      <td>1.000000</td>\n      <td>1.000000</td>\n      <td>40.751600</td>\n      <td>-73.977900</td>\n      <td>3100.000000</td>\n    </tr>\n    <tr>\n      <th>75%</th>\n      <td>2.000000</td>\n      <td>1.000000</td>\n      <td>40.774000</td>\n      <td>-73.954700</td>\n      <td>4000.000000</td>\n    </tr>\n    <tr>\n      <th>max</th>\n      <td>8.000000</td>\n      <td>10.000000</td>\n      <td>40.915400</td>\n      <td>-73.700100</td>\n      <td>9999.000000</td>\n    </tr>\n  </tbody>\n</table>\n</div>"
     },
     "metadata": {},
     "execution_count": 4
    }
   ],
   "source": [
    "# to learn about data itself we can use describe() method:\n",
    "df.describe()"
   ]
  },
  {
   "cell_type": "code",
   "execution_count": 5,
   "metadata": {
    "tags": []
   },
   "outputs": [
    {
     "output_type": "stream",
     "name": "stdout",
     "text": "bedrooms        1.508799\nbathrooms       1.178313\nlatitude       40.750782\nlongitude     -73.972365\nprice        3438.297950\ndtype: float64\n\n1    15718\n2    14451\n0     9436\n3     6777\n4     1710\n5      169\n6       36\n8        2\n7        1\nName: bedrooms, dtype: int64\n"
    }
   ],
   "source": [
    "# print the mean of every column\n",
    "print(df.mean())\n",
    "\n",
    "print()\n",
    "\n",
    "# get the number of apartments with a specific number of bedrooms\n",
    "print(df.bedrooms.value_counts())"
   ]
  },
  {
   "cell_type": "code",
   "execution_count": 6,
   "metadata": {
    "tags": []
   },
   "outputs": [
    {
     "output_type": "execute_result",
     "data": {
      "text/plain": "       bedrooms  bathrooms  latitude  longitude  price\n20589         3        3.0   40.7934   -73.9743   9999\n3784          6        3.0   40.7287   -73.9856   9999\n11598         6        3.0   40.7287   -73.9856   9999\n43789         3        3.0   40.7602   -73.9597   9995\n43085         2        2.5   40.7285   -73.9902   9995",
      "text/html": "<div>\n<style scoped>\n    .dataframe tbody tr th:only-of-type {\n        vertical-align: middle;\n    }\n\n    .dataframe tbody tr th {\n        vertical-align: top;\n    }\n\n    .dataframe thead th {\n        text-align: right;\n    }\n</style>\n<table border=\"1\" class=\"dataframe\">\n  <thead>\n    <tr style=\"text-align: right;\">\n      <th></th>\n      <th>bedrooms</th>\n      <th>bathrooms</th>\n      <th>latitude</th>\n      <th>longitude</th>\n      <th>price</th>\n    </tr>\n  </thead>\n  <tbody>\n    <tr>\n      <th>20589</th>\n      <td>3</td>\n      <td>3.0</td>\n      <td>40.7934</td>\n      <td>-73.9743</td>\n      <td>9999</td>\n    </tr>\n    <tr>\n      <th>3784</th>\n      <td>6</td>\n      <td>3.0</td>\n      <td>40.7287</td>\n      <td>-73.9856</td>\n      <td>9999</td>\n    </tr>\n    <tr>\n      <th>11598</th>\n      <td>6</td>\n      <td>3.0</td>\n      <td>40.7287</td>\n      <td>-73.9856</td>\n      <td>9999</td>\n    </tr>\n    <tr>\n      <th>43789</th>\n      <td>3</td>\n      <td>3.0</td>\n      <td>40.7602</td>\n      <td>-73.9597</td>\n      <td>9995</td>\n    </tr>\n    <tr>\n      <th>43085</th>\n      <td>2</td>\n      <td>2.5</td>\n      <td>40.7285</td>\n      <td>-73.9902</td>\n      <td>9995</td>\n    </tr>\n  </tbody>\n</table>\n</div>"
     },
     "metadata": {},
     "execution_count": 6
    }
   ],
   "source": [
    "# sort data frame by price in descending order\n",
    "df.sort_values('price', ascending=False).head()"
   ]
  },
  {
   "cell_type": "markdown",
   "metadata": {},
   "source": [
    "#### Extracting Subsets"
   ]
  },
  {
   "cell_type": "code",
   "execution_count": 7,
   "metadata": {},
   "outputs": [
    {
     "output_type": "execute_result",
     "data": {
      "text/plain": "(3438.297950310559, 1401.4222466501715, 9999, pandas.core.series.Series)"
     },
     "metadata": {},
     "execution_count": 7
    }
   ],
   "source": [
    "# this is the same as df.price\n",
    "price = df['price'] # returns numpy series\n",
    "\n",
    "# on numpy series we can execute some useful functions\n",
    "price.mean(), price.std(), price.max(), type(price)"
   ]
  },
  {
   "cell_type": "code",
   "execution_count": 8,
   "metadata": {
    "tags": []
   },
   "outputs": [
    {
     "output_type": "execute_result",
     "data": {
      "text/plain": "   bathrooms  price\n0        1.0   2400\n1        1.0   3800\n2        1.0   3495\n3        1.5   3000\n4        1.0   2795",
      "text/html": "<div>\n<style scoped>\n    .dataframe tbody tr th:only-of-type {\n        vertical-align: middle;\n    }\n\n    .dataframe tbody tr th {\n        vertical-align: top;\n    }\n\n    .dataframe thead th {\n        text-align: right;\n    }\n</style>\n<table border=\"1\" class=\"dataframe\">\n  <thead>\n    <tr style=\"text-align: right;\">\n      <th></th>\n      <th>bathrooms</th>\n      <th>price</th>\n    </tr>\n  </thead>\n  <tbody>\n    <tr>\n      <th>0</th>\n      <td>1.0</td>\n      <td>2400</td>\n    </tr>\n    <tr>\n      <th>1</th>\n      <td>1.0</td>\n      <td>3800</td>\n    </tr>\n    <tr>\n      <th>2</th>\n      <td>1.0</td>\n      <td>3495</td>\n    </tr>\n    <tr>\n      <th>3</th>\n      <td>1.5</td>\n      <td>3000</td>\n    </tr>\n    <tr>\n      <th>4</th>\n      <td>1.0</td>\n      <td>2795</td>\n    </tr>\n  </tbody>\n</table>\n</div>"
     },
     "metadata": {},
     "execution_count": 8
    }
   ],
   "source": [
    "# extracting bathrooms and price columns to a new data frame\n",
    "bath_price = df[['bathrooms','price']]\n",
    "bath_price.head()"
   ]
  },
  {
   "cell_type": "code",
   "execution_count": 9,
   "metadata": {
    "tags": []
   },
   "outputs": [
    {
     "output_type": "execute_result",
     "data": {
      "text/plain": "   bedrooms  bathrooms  latitude  longitude\n0         1        1.0   40.7108   -73.9539\n1         2        1.0   40.7513   -73.9722\n2         2        1.0   40.7575   -73.9625",
      "text/html": "<div>\n<style scoped>\n    .dataframe tbody tr th:only-of-type {\n        vertical-align: middle;\n    }\n\n    .dataframe tbody tr th {\n        vertical-align: top;\n    }\n\n    .dataframe thead th {\n        text-align: right;\n    }\n</style>\n<table border=\"1\" class=\"dataframe\">\n  <thead>\n    <tr style=\"text-align: right;\">\n      <th></th>\n      <th>bedrooms</th>\n      <th>bathrooms</th>\n      <th>latitude</th>\n      <th>longitude</th>\n    </tr>\n  </thead>\n  <tbody>\n    <tr>\n      <th>0</th>\n      <td>1</td>\n      <td>1.0</td>\n      <td>40.7108</td>\n      <td>-73.9539</td>\n    </tr>\n    <tr>\n      <th>1</th>\n      <td>2</td>\n      <td>1.0</td>\n      <td>40.7513</td>\n      <td>-73.9722</td>\n    </tr>\n    <tr>\n      <th>2</th>\n      <td>2</td>\n      <td>1.0</td>\n      <td>40.7575</td>\n      <td>-73.9625</td>\n    </tr>\n  </tbody>\n</table>\n</div>"
     },
     "metadata": {},
     "execution_count": 9
    }
   ],
   "source": [
    "# extract features and target variable separately\n",
    "X = df.drop('price', axis=1) # get all but price column\n",
    "y = df['price']\n",
    "X.head(3)"
   ]
  },
  {
   "cell_type": "markdown",
   "metadata": {},
   "source": [
    "The `axis=1` bit is a little inconvenient but it specifies we'd like to drop a column and not a row (`axis=0`). The `drop()` method does not alter the dataframe; instead it returns a view of the dataframe without the indicated column."
   ]
  },
  {
   "cell_type": "code",
   "execution_count": 10,
   "metadata": {
    "tags": []
   },
   "outputs": [
    {
     "output_type": "display_data",
     "data": {
      "text/plain": "   bedrooms  bathrooms  latitude  longitude  price\n5         3        1.0   40.7348   -73.9865   7200\n6         3        2.0   40.7302   -73.9826   6000\n7         0        1.0   40.7769   -73.9467   1945\n8         1        0.0   40.7346   -73.9811   2435\n9         3        3.0   40.6990   -73.9943   6850",
      "text/html": "<div>\n<style scoped>\n    .dataframe tbody tr th:only-of-type {\n        vertical-align: middle;\n    }\n\n    .dataframe tbody tr th {\n        vertical-align: top;\n    }\n\n    .dataframe thead th {\n        text-align: right;\n    }\n</style>\n<table border=\"1\" class=\"dataframe\">\n  <thead>\n    <tr style=\"text-align: right;\">\n      <th></th>\n      <th>bedrooms</th>\n      <th>bathrooms</th>\n      <th>latitude</th>\n      <th>longitude</th>\n      <th>price</th>\n    </tr>\n  </thead>\n  <tbody>\n    <tr>\n      <th>5</th>\n      <td>3</td>\n      <td>1.0</td>\n      <td>40.7348</td>\n      <td>-73.9865</td>\n      <td>7200</td>\n    </tr>\n    <tr>\n      <th>6</th>\n      <td>3</td>\n      <td>2.0</td>\n      <td>40.7302</td>\n      <td>-73.9826</td>\n      <td>6000</td>\n    </tr>\n    <tr>\n      <th>7</th>\n      <td>0</td>\n      <td>1.0</td>\n      <td>40.7769</td>\n      <td>-73.9467</td>\n      <td>1945</td>\n    </tr>\n    <tr>\n      <th>8</th>\n      <td>1</td>\n      <td>0.0</td>\n      <td>40.7346</td>\n      <td>-73.9811</td>\n      <td>2435</td>\n    </tr>\n    <tr>\n      <th>9</th>\n      <td>3</td>\n      <td>3.0</td>\n      <td>40.6990</td>\n      <td>-73.9943</td>\n      <td>6850</td>\n    </tr>\n  </tbody>\n</table>\n</div>"
     },
     "metadata": {}
    },
    {
     "output_type": "display_data",
     "data": {
      "text/plain": "   bedrooms  bathrooms  latitude  longitude  price\n0         1        1.0   40.7108   -73.9539   2400\n1         2        1.0   40.7513   -73.9722   3800\n2         2        1.0   40.7575   -73.9625   3495\n3         3        1.5   40.7145   -73.9425   3000\n4         0        1.0   40.7439   -73.9743   2795",
      "text/html": "<div>\n<style scoped>\n    .dataframe tbody tr th:only-of-type {\n        vertical-align: middle;\n    }\n\n    .dataframe tbody tr th {\n        vertical-align: top;\n    }\n\n    .dataframe thead th {\n        text-align: right;\n    }\n</style>\n<table border=\"1\" class=\"dataframe\">\n  <thead>\n    <tr style=\"text-align: right;\">\n      <th></th>\n      <th>bedrooms</th>\n      <th>bathrooms</th>\n      <th>latitude</th>\n      <th>longitude</th>\n      <th>price</th>\n    </tr>\n  </thead>\n  <tbody>\n    <tr>\n      <th>0</th>\n      <td>1</td>\n      <td>1.0</td>\n      <td>40.7108</td>\n      <td>-73.9539</td>\n      <td>2400</td>\n    </tr>\n    <tr>\n      <th>1</th>\n      <td>2</td>\n      <td>1.0</td>\n      <td>40.7513</td>\n      <td>-73.9722</td>\n      <td>3800</td>\n    </tr>\n    <tr>\n      <th>2</th>\n      <td>2</td>\n      <td>1.0</td>\n      <td>40.7575</td>\n      <td>-73.9625</td>\n      <td>3495</td>\n    </tr>\n    <tr>\n      <th>3</th>\n      <td>3</td>\n      <td>1.5</td>\n      <td>40.7145</td>\n      <td>-73.9425</td>\n      <td>3000</td>\n    </tr>\n    <tr>\n      <th>4</th>\n      <td>0</td>\n      <td>1.0</td>\n      <td>40.7439</td>\n      <td>-73.9743</td>\n      <td>2795</td>\n    </tr>\n  </tbody>\n</table>\n</div>"
     },
     "metadata": {}
    },
    {
     "output_type": "display_data",
     "data": {
      "text/plain": "   bedrooms  bathrooms\n1         2        1.0\n5         3        1.0\n7         0        1.0",
      "text/html": "<div>\n<style scoped>\n    .dataframe tbody tr th:only-of-type {\n        vertical-align: middle;\n    }\n\n    .dataframe tbody tr th {\n        vertical-align: top;\n    }\n\n    .dataframe thead th {\n        text-align: right;\n    }\n</style>\n<table border=\"1\" class=\"dataframe\">\n  <thead>\n    <tr style=\"text-align: right;\">\n      <th></th>\n      <th>bedrooms</th>\n      <th>bathrooms</th>\n    </tr>\n  </thead>\n  <tbody>\n    <tr>\n      <th>1</th>\n      <td>2</td>\n      <td>1.0</td>\n    </tr>\n    <tr>\n      <th>5</th>\n      <td>3</td>\n      <td>1.0</td>\n    </tr>\n    <tr>\n      <th>7</th>\n      <td>0</td>\n      <td>1.0</td>\n    </tr>\n  </tbody>\n</table>\n</div>"
     },
     "metadata": {}
    }
   ],
   "source": [
    "# print rows from 5 to 9\n",
    "display(df.iloc[5:10])\n",
    "\n",
    "# print rows from 0 to 4\n",
    "display(df.iloc[:5])\n",
    "\n",
    "# print rows (with index) 1, 5, 7 and columns `bedrooms`, `bathrooms`\n",
    "display(df.iloc[[1, 5, 7]][['bedrooms', 'bathrooms']])\n"
   ]
  },
  {
   "cell_type": "markdown",
   "metadata": {},
   "source": [
    "#### DataFrame Indexes\n"
   ]
  },
  {
   "cell_type": "code",
   "execution_count": 11,
   "metadata": {},
   "outputs": [
    {
     "output_type": "display_data",
     "data": {
      "text/plain": "       bedrooms  bathrooms  latitude  longitude  price\n0             1        1.0   40.7108   -73.9539   2400\n1             2        1.0   40.7513   -73.9722   3800\n2             2        1.0   40.7575   -73.9625   3495\n3             3        1.5   40.7145   -73.9425   3000\n4             0        1.0   40.7439   -73.9743   2795\n...         ...        ...       ...        ...    ...\n48295         3        1.0   40.8433   -73.9396   2800\n48296         2        1.0   40.8198   -73.9578   2395\n48297         1        1.0   40.5765   -73.9554   1850\n48298         2        1.0   40.7448   -74.0017   4195\n48299         3        1.0   40.7594   -73.9712   4280\n\n[48300 rows x 5 columns]",
      "text/html": "<div>\n<style scoped>\n    .dataframe tbody tr th:only-of-type {\n        vertical-align: middle;\n    }\n\n    .dataframe tbody tr th {\n        vertical-align: top;\n    }\n\n    .dataframe thead th {\n        text-align: right;\n    }\n</style>\n<table border=\"1\" class=\"dataframe\">\n  <thead>\n    <tr style=\"text-align: right;\">\n      <th></th>\n      <th>bedrooms</th>\n      <th>bathrooms</th>\n      <th>latitude</th>\n      <th>longitude</th>\n      <th>price</th>\n    </tr>\n  </thead>\n  <tbody>\n    <tr>\n      <th>0</th>\n      <td>1</td>\n      <td>1.0</td>\n      <td>40.7108</td>\n      <td>-73.9539</td>\n      <td>2400</td>\n    </tr>\n    <tr>\n      <th>1</th>\n      <td>2</td>\n      <td>1.0</td>\n      <td>40.7513</td>\n      <td>-73.9722</td>\n      <td>3800</td>\n    </tr>\n    <tr>\n      <th>2</th>\n      <td>2</td>\n      <td>1.0</td>\n      <td>40.7575</td>\n      <td>-73.9625</td>\n      <td>3495</td>\n    </tr>\n    <tr>\n      <th>3</th>\n      <td>3</td>\n      <td>1.5</td>\n      <td>40.7145</td>\n      <td>-73.9425</td>\n      <td>3000</td>\n    </tr>\n    <tr>\n      <th>4</th>\n      <td>0</td>\n      <td>1.0</td>\n      <td>40.7439</td>\n      <td>-73.9743</td>\n      <td>2795</td>\n    </tr>\n    <tr>\n      <th>...</th>\n      <td>...</td>\n      <td>...</td>\n      <td>...</td>\n      <td>...</td>\n      <td>...</td>\n    </tr>\n    <tr>\n      <th>48295</th>\n      <td>3</td>\n      <td>1.0</td>\n      <td>40.8433</td>\n      <td>-73.9396</td>\n      <td>2800</td>\n    </tr>\n    <tr>\n      <th>48296</th>\n      <td>2</td>\n      <td>1.0</td>\n      <td>40.8198</td>\n      <td>-73.9578</td>\n      <td>2395</td>\n    </tr>\n    <tr>\n      <th>48297</th>\n      <td>1</td>\n      <td>1.0</td>\n      <td>40.5765</td>\n      <td>-73.9554</td>\n      <td>1850</td>\n    </tr>\n    <tr>\n      <th>48298</th>\n      <td>2</td>\n      <td>1.0</td>\n      <td>40.7448</td>\n      <td>-74.0017</td>\n      <td>4195</td>\n    </tr>\n    <tr>\n      <th>48299</th>\n      <td>3</td>\n      <td>1.0</td>\n      <td>40.7594</td>\n      <td>-73.9712</td>\n      <td>4280</td>\n    </tr>\n  </tbody>\n</table>\n<p>48300 rows × 5 columns</p>\n</div>"
     },
     "metadata": {}
    },
    {
     "output_type": "display_data",
     "data": {
      "text/plain": "bedrooms        0.0000\nbathrooms       1.0000\nlatitude       40.7723\nlongitude     -73.9510\nprice        2785.0000\nName: 10, dtype: float64"
     },
     "metadata": {}
    },
    {
     "output_type": "display_data",
     "data": {
      "text/plain": "bedrooms        0.0000\nbathrooms       1.0000\nlatitude       40.7723\nlongitude     -73.9510\nprice        2785.0000\nName: 10, dtype: float64"
     },
     "metadata": {}
    }
   ],
   "source": [
    "# data frame has index by default going from 0 to total number of rows\n",
    "display(df)\n",
    "\n",
    "# iloc uses current index where value equals 10, loc returns 10th row of data frame\n",
    "# currently it will return the same value\n",
    "display(df.loc[10], df.iloc[10])"
   ]
  },
  {
   "cell_type": "code",
   "execution_count": 12,
   "metadata": {},
   "outputs": [
    {
     "output_type": "display_data",
     "data": {
      "text/plain": "bathrooms       1.5000\nlatitude       40.7145\nlongitude     -73.9425\nprice        3000.0000\nName: 3, dtype: float64"
     },
     "metadata": {}
    },
    {
     "output_type": "display_data",
     "data": {
      "text/plain": "          bathrooms  latitude  longitude  price\nbedrooms                                       \n3               1.5   40.7145   -73.9425   3000\n3               1.0   40.7348   -73.9865   7200\n3               2.0   40.7302   -73.9826   6000\n3               3.0   40.6990   -73.9943   6850\n3               1.0   40.7360   -73.9860   4450\n...             ...       ...        ...    ...\n3               2.0   40.7444   -73.9803   5800\n3               1.5   40.7550   -73.9636   4600\n3               2.0   40.7516   -73.9717   5000\n3               1.0   40.8433   -73.9396   2800\n3               1.0   40.7594   -73.9712   4280\n\n[6777 rows x 4 columns]",
      "text/html": "<div>\n<style scoped>\n    .dataframe tbody tr th:only-of-type {\n        vertical-align: middle;\n    }\n\n    .dataframe tbody tr th {\n        vertical-align: top;\n    }\n\n    .dataframe thead th {\n        text-align: right;\n    }\n</style>\n<table border=\"1\" class=\"dataframe\">\n  <thead>\n    <tr style=\"text-align: right;\">\n      <th></th>\n      <th>bathrooms</th>\n      <th>latitude</th>\n      <th>longitude</th>\n      <th>price</th>\n    </tr>\n    <tr>\n      <th>bedrooms</th>\n      <th></th>\n      <th></th>\n      <th></th>\n      <th></th>\n    </tr>\n  </thead>\n  <tbody>\n    <tr>\n      <th>3</th>\n      <td>1.5</td>\n      <td>40.7145</td>\n      <td>-73.9425</td>\n      <td>3000</td>\n    </tr>\n    <tr>\n      <th>3</th>\n      <td>1.0</td>\n      <td>40.7348</td>\n      <td>-73.9865</td>\n      <td>7200</td>\n    </tr>\n    <tr>\n      <th>3</th>\n      <td>2.0</td>\n      <td>40.7302</td>\n      <td>-73.9826</td>\n      <td>6000</td>\n    </tr>\n    <tr>\n      <th>3</th>\n      <td>3.0</td>\n      <td>40.6990</td>\n      <td>-73.9943</td>\n      <td>6850</td>\n    </tr>\n    <tr>\n      <th>3</th>\n      <td>1.0</td>\n      <td>40.7360</td>\n      <td>-73.9860</td>\n      <td>4450</td>\n    </tr>\n    <tr>\n      <th>...</th>\n      <td>...</td>\n      <td>...</td>\n      <td>...</td>\n      <td>...</td>\n    </tr>\n    <tr>\n      <th>3</th>\n      <td>2.0</td>\n      <td>40.7444</td>\n      <td>-73.9803</td>\n      <td>5800</td>\n    </tr>\n    <tr>\n      <th>3</th>\n      <td>1.5</td>\n      <td>40.7550</td>\n      <td>-73.9636</td>\n      <td>4600</td>\n    </tr>\n    <tr>\n      <th>3</th>\n      <td>2.0</td>\n      <td>40.7516</td>\n      <td>-73.9717</td>\n      <td>5000</td>\n    </tr>\n    <tr>\n      <th>3</th>\n      <td>1.0</td>\n      <td>40.8433</td>\n      <td>-73.9396</td>\n      <td>2800</td>\n    </tr>\n    <tr>\n      <th>3</th>\n      <td>1.0</td>\n      <td>40.7594</td>\n      <td>-73.9712</td>\n      <td>4280</td>\n    </tr>\n  </tbody>\n</table>\n<p>6777 rows × 4 columns</p>\n</div>"
     },
     "metadata": {}
    }
   ],
   "source": [
    "# set new index `bedrooms`\n",
    "# now we can't access the column 'bedrooms'\n",
    "dfi = df.set_index('bedrooms')\n",
    "\n",
    "# dfi.iloc[3] returns data frame where bedrooms = 3, dfi.loc[3] returns 4th row\n",
    "display(dfi.iloc[3], dfi.loc[3])"
   ]
  },
  {
   "cell_type": "code",
   "execution_count": 13,
   "metadata": {},
   "outputs": [],
   "source": [
    "# to return the column bedrooms as column we need to reset the index\n",
    "dfi = dfi.reset_index()"
   ]
  },
  {
   "cell_type": "code",
   "execution_count": 14,
   "metadata": {},
   "outputs": [
    {
     "output_type": "execute_result",
     "data": {
      "text/plain": "   bedrooms        price\n0         0  2459.570051\n1         1  3049.785087\n2         2  3707.837727\n3         3  4483.895972\n4         4  5538.584211\n5         5  6955.260355\n6         6  7933.444444\n7         7  6923.000000\n8         8  8247.500000",
      "text/html": "<div>\n<style scoped>\n    .dataframe tbody tr th:only-of-type {\n        vertical-align: middle;\n    }\n\n    .dataframe tbody tr th {\n        vertical-align: top;\n    }\n\n    .dataframe thead th {\n        text-align: right;\n    }\n</style>\n<table border=\"1\" class=\"dataframe\">\n  <thead>\n    <tr style=\"text-align: right;\">\n      <th></th>\n      <th>bedrooms</th>\n      <th>price</th>\n    </tr>\n  </thead>\n  <tbody>\n    <tr>\n      <th>0</th>\n      <td>0</td>\n      <td>2459.570051</td>\n    </tr>\n    <tr>\n      <th>1</th>\n      <td>1</td>\n      <td>3049.785087</td>\n    </tr>\n    <tr>\n      <th>2</th>\n      <td>2</td>\n      <td>3707.837727</td>\n    </tr>\n    <tr>\n      <th>3</th>\n      <td>3</td>\n      <td>4483.895972</td>\n    </tr>\n    <tr>\n      <th>4</th>\n      <td>4</td>\n      <td>5538.584211</td>\n    </tr>\n    <tr>\n      <th>5</th>\n      <td>5</td>\n      <td>6955.260355</td>\n    </tr>\n    <tr>\n      <th>6</th>\n      <td>6</td>\n      <td>7933.444444</td>\n    </tr>\n    <tr>\n      <th>7</th>\n      <td>7</td>\n      <td>6923.000000</td>\n    </tr>\n    <tr>\n      <th>8</th>\n      <td>8</td>\n      <td>8247.500000</td>\n    </tr>\n  </tbody>\n</table>\n</div>"
     },
     "metadata": {},
     "execution_count": 14
    }
   ],
   "source": [
    "# let's calculate the mean of columns per number of bedrooms\n",
    "bybedrooms = df.groupby(['bedrooms']).mean()\n",
    "# now index is bedrooms but we want to reset that index\n",
    "bybedrooms = bybedrooms.reset_index() # return to 'normal' index 0,1,2,... with column bedrooms\n",
    "bybedrooms = bybedrooms[['bedrooms', 'price']]\n",
    "bybedrooms"
   ]
  },
  {
   "cell_type": "markdown",
   "metadata": {},
   "source": [
    "#### DataFrame Queries"
   ]
  },
  {
   "cell_type": "code",
   "execution_count": 15,
   "metadata": {},
   "outputs": [
    {
     "output_type": "execute_result",
     "data": {
      "text/plain": "   bedrooms  bathrooms  latitude  longitude  price\n0     False      False     False      False  False\n1     False      False     False      False  False\n2     False      False     False      False  False\n3     False      False     False      False  False\n4     False      False     False      False  False",
      "text/html": "<div>\n<style scoped>\n    .dataframe tbody tr th:only-of-type {\n        vertical-align: middle;\n    }\n\n    .dataframe tbody tr th {\n        vertical-align: top;\n    }\n\n    .dataframe thead th {\n        text-align: right;\n    }\n</style>\n<table border=\"1\" class=\"dataframe\">\n  <thead>\n    <tr style=\"text-align: right;\">\n      <th></th>\n      <th>bedrooms</th>\n      <th>bathrooms</th>\n      <th>latitude</th>\n      <th>longitude</th>\n      <th>price</th>\n    </tr>\n  </thead>\n  <tbody>\n    <tr>\n      <th>0</th>\n      <td>False</td>\n      <td>False</td>\n      <td>False</td>\n      <td>False</td>\n      <td>False</td>\n    </tr>\n    <tr>\n      <th>1</th>\n      <td>False</td>\n      <td>False</td>\n      <td>False</td>\n      <td>False</td>\n      <td>False</td>\n    </tr>\n    <tr>\n      <th>2</th>\n      <td>False</td>\n      <td>False</td>\n      <td>False</td>\n      <td>False</td>\n      <td>False</td>\n    </tr>\n    <tr>\n      <th>3</th>\n      <td>False</td>\n      <td>False</td>\n      <td>False</td>\n      <td>False</td>\n      <td>False</td>\n    </tr>\n    <tr>\n      <th>4</th>\n      <td>False</td>\n      <td>False</td>\n      <td>False</td>\n      <td>False</td>\n      <td>False</td>\n    </tr>\n  </tbody>\n</table>\n</div>"
     },
     "metadata": {},
     "execution_count": 15
    }
   ],
   "source": [
    "# isnull() checks if value is missing\n",
    "df.isnull().head()"
   ]
  },
  {
   "cell_type": "code",
   "execution_count": 16,
   "metadata": {},
   "outputs": [
    {
     "output_type": "execute_result",
     "data": {
      "text/plain": "bedrooms     False\nbathrooms    False\nlatitude     False\nlongitude    False\nprice        False\ndtype: bool"
     },
     "metadata": {},
     "execution_count": 16
    }
   ],
   "source": [
    "# checks if any value in any column is missing\n",
    "df.isnull().any()"
   ]
  },
  {
   "cell_type": "code",
   "execution_count": 17,
   "metadata": {},
   "outputs": [
    {
     "output_type": "display_data",
     "data": {
      "text/plain": "0        False\n1         True\n2         True\n3        False\n4        False\n         ...  \n48295    False\n48296    False\n48297    False\n48298     True\n48299     True\nName: price, Length: 48300, dtype: bool"
     },
     "metadata": {}
    },
    {
     "output_type": "execute_result",
     "data": {
      "text/plain": "       bedrooms  bathrooms  latitude  longitude  price\n11932         4        3.0   40.7011   -73.9259   1225\n21816         4        1.0   40.8399   -73.9222   1900\n23855         5        2.0   40.8033   -73.9574   1025\n25450         4        1.0   40.8399   -73.9222   1900\n27607         4        4.0   40.6631   -73.9099   1503\n42996         4        1.0   40.8175   -73.9408   1995",
      "text/html": "<div>\n<style scoped>\n    .dataframe tbody tr th:only-of-type {\n        vertical-align: middle;\n    }\n\n    .dataframe tbody tr th {\n        vertical-align: top;\n    }\n\n    .dataframe thead th {\n        text-align: right;\n    }\n</style>\n<table border=\"1\" class=\"dataframe\">\n  <thead>\n    <tr style=\"text-align: right;\">\n      <th></th>\n      <th>bedrooms</th>\n      <th>bathrooms</th>\n      <th>latitude</th>\n      <th>longitude</th>\n      <th>price</th>\n    </tr>\n  </thead>\n  <tbody>\n    <tr>\n      <th>11932</th>\n      <td>4</td>\n      <td>3.0</td>\n      <td>40.7011</td>\n      <td>-73.9259</td>\n      <td>1225</td>\n    </tr>\n    <tr>\n      <th>21816</th>\n      <td>4</td>\n      <td>1.0</td>\n      <td>40.8399</td>\n      <td>-73.9222</td>\n      <td>1900</td>\n    </tr>\n    <tr>\n      <th>23855</th>\n      <td>5</td>\n      <td>2.0</td>\n      <td>40.8033</td>\n      <td>-73.9574</td>\n      <td>1025</td>\n    </tr>\n    <tr>\n      <th>25450</th>\n      <td>4</td>\n      <td>1.0</td>\n      <td>40.8399</td>\n      <td>-73.9222</td>\n      <td>1900</td>\n    </tr>\n    <tr>\n      <th>27607</th>\n      <td>4</td>\n      <td>4.0</td>\n      <td>40.6631</td>\n      <td>-73.9099</td>\n      <td>1503</td>\n    </tr>\n    <tr>\n      <th>42996</th>\n      <td>4</td>\n      <td>1.0</td>\n      <td>40.8175</td>\n      <td>-73.9408</td>\n      <td>1995</td>\n    </tr>\n  </tbody>\n</table>\n</div>"
     },
     "metadata": {},
     "execution_count": 17
    }
   ],
   "source": [
    "# will return series with True where condition is true and False when it is false\n",
    "# we can use this series to return all apartments with price greater than 30000\n",
    "display(df.price > 3000)\n",
    "\n",
    "# get all apartments where we have more then 3 bedrooms and rent is less than 2k\n",
    "df[(df.bedrooms > 3) & (df.price < 2000)]"
   ]
  },
  {
   "cell_type": "code",
   "execution_count": 18,
   "metadata": {},
   "outputs": [
    {
     "output_type": "execute_result",
     "data": {
      "text/plain": "       bedrooms  bathrooms  latitude  longitude  price  djordjidje\n0             1        1.0   40.7108   -73.9539   2400          10\n1             2        1.0   40.7513   -73.9722   3800          10\n2             2        1.0   40.7575   -73.9625   3495          10\n3             3        1.5   40.7145   -73.9425   3000          10\n4             0        1.0   40.7439   -73.9743   2795          10\n...         ...        ...       ...        ...    ...         ...\n48295         3        1.0   40.8433   -73.9396   2800          10\n48296         2        1.0   40.8198   -73.9578   2395          10\n48297         1        1.0   40.5765   -73.9554   1850          10\n48298         2        1.0   40.7448   -74.0017   4195          10\n48299         3        1.0   40.7594   -73.9712   4280          10\n\n[48300 rows x 6 columns]",
      "text/html": "<div>\n<style scoped>\n    .dataframe tbody tr th:only-of-type {\n        vertical-align: middle;\n    }\n\n    .dataframe tbody tr th {\n        vertical-align: top;\n    }\n\n    .dataframe thead th {\n        text-align: right;\n    }\n</style>\n<table border=\"1\" class=\"dataframe\">\n  <thead>\n    <tr style=\"text-align: right;\">\n      <th></th>\n      <th>bedrooms</th>\n      <th>bathrooms</th>\n      <th>latitude</th>\n      <th>longitude</th>\n      <th>price</th>\n      <th>djordjidje</th>\n    </tr>\n  </thead>\n  <tbody>\n    <tr>\n      <th>0</th>\n      <td>1</td>\n      <td>1.0</td>\n      <td>40.7108</td>\n      <td>-73.9539</td>\n      <td>2400</td>\n      <td>10</td>\n    </tr>\n    <tr>\n      <th>1</th>\n      <td>2</td>\n      <td>1.0</td>\n      <td>40.7513</td>\n      <td>-73.9722</td>\n      <td>3800</td>\n      <td>10</td>\n    </tr>\n    <tr>\n      <th>2</th>\n      <td>2</td>\n      <td>1.0</td>\n      <td>40.7575</td>\n      <td>-73.9625</td>\n      <td>3495</td>\n      <td>10</td>\n    </tr>\n    <tr>\n      <th>3</th>\n      <td>3</td>\n      <td>1.5</td>\n      <td>40.7145</td>\n      <td>-73.9425</td>\n      <td>3000</td>\n      <td>10</td>\n    </tr>\n    <tr>\n      <th>4</th>\n      <td>0</td>\n      <td>1.0</td>\n      <td>40.7439</td>\n      <td>-73.9743</td>\n      <td>2795</td>\n      <td>10</td>\n    </tr>\n    <tr>\n      <th>...</th>\n      <td>...</td>\n      <td>...</td>\n      <td>...</td>\n      <td>...</td>\n      <td>...</td>\n      <td>...</td>\n    </tr>\n    <tr>\n      <th>48295</th>\n      <td>3</td>\n      <td>1.0</td>\n      <td>40.8433</td>\n      <td>-73.9396</td>\n      <td>2800</td>\n      <td>10</td>\n    </tr>\n    <tr>\n      <th>48296</th>\n      <td>2</td>\n      <td>1.0</td>\n      <td>40.8198</td>\n      <td>-73.9578</td>\n      <td>2395</td>\n      <td>10</td>\n    </tr>\n    <tr>\n      <th>48297</th>\n      <td>1</td>\n      <td>1.0</td>\n      <td>40.5765</td>\n      <td>-73.9554</td>\n      <td>1850</td>\n      <td>10</td>\n    </tr>\n    <tr>\n      <th>48298</th>\n      <td>2</td>\n      <td>1.0</td>\n      <td>40.7448</td>\n      <td>-74.0017</td>\n      <td>4195</td>\n      <td>10</td>\n    </tr>\n    <tr>\n      <th>48299</th>\n      <td>3</td>\n      <td>1.0</td>\n      <td>40.7594</td>\n      <td>-73.9712</td>\n      <td>4280</td>\n      <td>10</td>\n    </tr>\n  </tbody>\n</table>\n<p>48300 rows × 6 columns</p>\n</div>"
     },
     "metadata": {},
     "execution_count": 18
    }
   ],
   "source": [
    "# add new column to the data frame\n",
    "dfcopy = df.copy()\n",
    "dfcopy['djordjidje'] = 10\n",
    "dfcopy"
   ]
  },
  {
   "cell_type": "markdown",
   "metadata": {},
   "source": [
    "#### String and Date Operations"
   ]
  },
  {
   "cell_type": "code",
   "execution_count": 19,
   "metadata": {},
   "outputs": [],
   "source": [
    "import numpy as np\n",
    "\n",
    "# fake some dates\n",
    "def random_dates(start, end, n=10):\n",
    "\n",
    "    start_u = start.value//10**9\n",
    "    end_u = end.value//10**9\n",
    "\n",
    "    return pd.to_datetime(np.random.randint(start_u, end_u, n), unit='s')\n",
    "\n",
    "start = pd.to_datetime('2015-01-01')\n",
    "end = pd.to_datetime('2018-01-01')\n",
    "dfdates = df.copy()\n",
    "dfdates['dates'] = random_dates(start, end, n=48300)"
   ]
  },
  {
   "cell_type": "code",
   "execution_count": 20,
   "metadata": {},
   "outputs": [
    {
     "output_type": "display_data",
     "data": {
      "text/plain": "0        6\n1        5\n2        3\n3        3\n4        1\n        ..\n48295    1\n48296    5\n48297    2\n48298    3\n48299    4\nName: dates, Length: 48300, dtype: int64"
     },
     "metadata": {}
    },
    {
     "output_type": "display_data",
     "data": {
      "text/plain": "0        13\n1        15\n2        22\n3        26\n4        17\n         ..\n48295    14\n48296     1\n48297    28\n48298     1\n48299    27\nName: dates, Length: 48300, dtype: int64"
     },
     "metadata": {}
    },
    {
     "output_type": "display_data",
     "data": {
      "text/plain": "0        11\n1        10\n2         6\n3         5\n4         2\n         ..\n48295    11\n48296    10\n48297     9\n48298     6\n48299     1\nName: dates, Length: 48300, dtype: int64"
     },
     "metadata": {}
    }
   ],
   "source": [
    "# dates have some useful attributes grouped in dt for extracting various date attributes\n",
    "# in order to treat dates as dates not as strings when loading data frame we have to use parse_dates=<array of columns>\n",
    "display(dfdates['dates'].dt.dayofweek, dfdates['dates'].dt.day, dfdates['dates'].dt.month)"
   ]
  },
  {
   "cell_type": "markdown",
   "metadata": {},
   "source": [
    "#### Saving and Loading DataFrames"
   ]
  },
  {
   "cell_type": "code",
   "execution_count": 21,
   "metadata": {},
   "outputs": [
    {
     "output_type": "execute_result",
     "data": {
      "text/plain": "       bedrooms  bathrooms  latitude  longitude  price\n0             1        1.0   40.7108   -73.9539   2400\n1             2        1.0   40.7513   -73.9722   3800\n2             2        1.0   40.7575   -73.9625   3495\n3             3        1.5   40.7145   -73.9425   3000\n4             0        1.0   40.7439   -73.9743   2795\n...         ...        ...       ...        ...    ...\n48295         3        1.0   40.8433   -73.9396   2800\n48296         2        1.0   40.8198   -73.9578   2395\n48297         1        1.0   40.5765   -73.9554   1850\n48298         2        1.0   40.7448   -74.0017   4195\n48299         3        1.0   40.7594   -73.9712   4280\n\n[48300 rows x 5 columns]",
      "text/html": "<div>\n<style scoped>\n    .dataframe tbody tr th:only-of-type {\n        vertical-align: middle;\n    }\n\n    .dataframe tbody tr th {\n        vertical-align: top;\n    }\n\n    .dataframe thead th {\n        text-align: right;\n    }\n</style>\n<table border=\"1\" class=\"dataframe\">\n  <thead>\n    <tr style=\"text-align: right;\">\n      <th></th>\n      <th>bedrooms</th>\n      <th>bathrooms</th>\n      <th>latitude</th>\n      <th>longitude</th>\n      <th>price</th>\n    </tr>\n  </thead>\n  <tbody>\n    <tr>\n      <th>0</th>\n      <td>1</td>\n      <td>1.0</td>\n      <td>40.7108</td>\n      <td>-73.9539</td>\n      <td>2400</td>\n    </tr>\n    <tr>\n      <th>1</th>\n      <td>2</td>\n      <td>1.0</td>\n      <td>40.7513</td>\n      <td>-73.9722</td>\n      <td>3800</td>\n    </tr>\n    <tr>\n      <th>2</th>\n      <td>2</td>\n      <td>1.0</td>\n      <td>40.7575</td>\n      <td>-73.9625</td>\n      <td>3495</td>\n    </tr>\n    <tr>\n      <th>3</th>\n      <td>3</td>\n      <td>1.5</td>\n      <td>40.7145</td>\n      <td>-73.9425</td>\n      <td>3000</td>\n    </tr>\n    <tr>\n      <th>4</th>\n      <td>0</td>\n      <td>1.0</td>\n      <td>40.7439</td>\n      <td>-73.9743</td>\n      <td>2795</td>\n    </tr>\n    <tr>\n      <th>...</th>\n      <td>...</td>\n      <td>...</td>\n      <td>...</td>\n      <td>...</td>\n      <td>...</td>\n    </tr>\n    <tr>\n      <th>48295</th>\n      <td>3</td>\n      <td>1.0</td>\n      <td>40.8433</td>\n      <td>-73.9396</td>\n      <td>2800</td>\n    </tr>\n    <tr>\n      <th>48296</th>\n      <td>2</td>\n      <td>1.0</td>\n      <td>40.8198</td>\n      <td>-73.9578</td>\n      <td>2395</td>\n    </tr>\n    <tr>\n      <th>48297</th>\n      <td>1</td>\n      <td>1.0</td>\n      <td>40.5765</td>\n      <td>-73.9554</td>\n      <td>1850</td>\n    </tr>\n    <tr>\n      <th>48298</th>\n      <td>2</td>\n      <td>1.0</td>\n      <td>40.7448</td>\n      <td>-74.0017</td>\n      <td>4195</td>\n    </tr>\n    <tr>\n      <th>48299</th>\n      <td>3</td>\n      <td>1.0</td>\n      <td>40.7594</td>\n      <td>-73.9712</td>\n      <td>4280</td>\n    </tr>\n  </tbody>\n</table>\n<p>48300 rows × 5 columns</p>\n</div>"
     },
     "metadata": {},
     "execution_count": 21
    }
   ],
   "source": [
    "# to save file as CSV we use pd.to_csv(PATH), same thing to read it pd.read_csv(PATH)\n",
    "# feather is much faster data format\n",
    "df.to_feather('../data/rent-ideal.feather') # save as feather\n",
    "df = pd.read_feather('../data/rent-ideal.feather') # read from feather\n",
    "df"
   ]
  }
 ]
}